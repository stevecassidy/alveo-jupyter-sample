{
 "cells": [
  {
   "cell_type": "markdown",
   "metadata": {},
   "source": [
    "## Sample Pyalveo Notebook\n",
    "\n",
    "This notebook shows an example of a Python script using the pyalveo library to access the [Alveo](https://app.alveo.edu.au) API to get data from an item list and process it with NLTK.\n",
    "\n",
    "First we load some relevant libraries."
   ]
  },
  {
   "cell_type": "code",
   "execution_count": 21,
   "metadata": {},
   "outputs": [
    {
     "name": "stdout",
     "output_type": "stream",
     "text": [
      "[nltk_data] Downloading package vader_lexicon to\n",
      "[nltk_data]     /home/jovyan/nltk_data...\n",
      "[nltk_data]   Package vader_lexicon is already up-to-date!\n",
      "[nltk_data] Downloading package punkt to /home/jovyan/nltk_data...\n",
      "[nltk_data]   Unzipping tokenizers/punkt.zip.\n"
     ]
    }
   ],
   "source": [
    "import pyalveo\n",
    "from nltk.sentiment.vader import SentimentIntensityAnalyzer\n",
    "import nltk\n",
    "nltk.download('vader_lexicon')\n",
    "nltk.download('punkt')\n",
    "from nltk import tokenize"
   ]
  },
  {
   "cell_type": "markdown",
   "metadata": {},
   "source": [
    "### Alveo Interface\n",
    "\n",
    "Next we create a connection to the Alveo API using the pyalveo library. You will need to insert your\n",
    "API key in the space below, copy it from the Alveo site under the user menu (top right).\n",
    "\n",
    "We then use the API to get the details of an item list and then get the primary text for each\n",
    "item in the list, storing the results into a list of texts.\n",
    "\n",
    "Note that by default, pyalveo will cache requests to Alveo so the second time you run this it will be\n",
    "much faster."
   ]
  },
  {
   "cell_type": "code",
   "execution_count": null,
   "metadata": {},
   "outputs": [],
   "source": [
    "API_KEY = \"YOUR API KEY HERE\"\n",
    "API_URL = \"https://app.alveo.edu.au/\""
   ]
  },
  {
   "cell_type": "code",
   "execution_count": 24,
   "metadata": {},
   "outputs": [
    {
     "name": "stdout",
     "output_type": "stream",
     "text": [
      "Item list name:  cooee-early\n",
      "Got 16 texts\n"
     ]
    }
   ],
   "source": [
    "client = pyalveo.Client(api_key=API_KEY, api_url=API_URL)\n",
    "itemlist = client.get_item_list(\"https://app.alveo.edu.au/item_lists/974\")\n",
    "\n",
    "print(\"Item list name: \", itemlist.name())\n",
    "\n",
    "texts = []\n",
    "for itemurl in itemlist:\n",
    "    item = client.get_item(itemurl)\n",
    "    text = item.get_primary_text()\n",
    "    texts.append(text.decode()) # convert from bytes to a string\n",
    "\n",
    "print(\"Got\", len(texts), \"texts\")\n"
   ]
  },
  {
   "cell_type": "code",
   "execution_count": 28,
   "metadata": {},
   "outputs": [
    {
     "name": "stdout",
     "output_type": "stream",
     "text": [
      "Dear Sir,\n",
      "I have the pleasure of sending you some Seeds & would gladly have sent a larger quantity, but the person employed, either neglected collecting them at the proper time, or we were too late in the Season. In the Kanguroo which is stuffed, not to alarm Lady Banks, you will observe the feet to be different to what is described in your voyage. These Animals are very numerous, but after being fired at grow very shy The Stones w.ch I send on account of the appearance of Metal & the Ochre, were found in the bed of a river, which in the rainy Season runs thro' a Slate quarry. The Slate, is according to the information of a Slater, not fitt for any use as it is rotten & will not split, for the Skin of a Bird which I send to Ld Sydney may merit your attention, it differs from the Ostrich & from the Emu. I have seen several but it is very difficult to get within shot of them. Black Swans are seen frequently but only one has been killed. The situation of the Penis in the Kangurroo appears to me uncommon, between the Anus & the Testicles, & very close to the former. This Animal grows to a great size, one has been killed that weighed very near to Two hundred weight, & one was found dead in the Woods, the Tail of which I have, that measures Eighteen inches in circumference. The procuring Shelter & Security for ourselves & provisions has giving full employment, but I have made some excursions in order to examine the Country around us, the difficulty of which you, My Dear Sir, can form a just Idea of. inland there is a Country in which the Timber grows as you observed about Botany Bay, at such a Distance that the Ground may be Cultivated with little trouble, but our situation does not permit us to go from the Cove in which I have fix'd the Settlement. The carrying Stores & Provisions inland, a single days journey would be impossible. Mr Nepean will tell you my reason for settling here, & such particulars respecting the Country as I have been able to inform him of. The Natives are far more numerous than I expected to find them. I have seen two hundred & twelve men in one Cove near Botany Bay, & reckon fifteen hundred in Botany bay, this Port & Broken bay (a good harbour) including those who live on the intermediate Coast. I have traced them thirty miles in land & having seen Smoke on Lansdown Hills, which are fifty miles inland, there cannot be the least doubt but that there are Inhabitants in interior parts of the Country.  almost all the men wanting the front tooth in the upper Jaw (which is pulled out) & most of the Women wanting the two first joints of the little finger on the left hand, are circumstances not observed in your voyage. I have seen a female Child of five years of Age that had lost the two Joints, & I have seen young Children whose fingers were perfect. I have likewise seen two Women with Child, & one Old Woman who had not suffered the operation, so that it is not in my power at present, to say at what Age it is performed, or on what account. We have unfortunately lost all our Cows & a parry is just returned after being out eight days, they say that they saw a very large Lake, or river, of fresh water & which I shall visit as soon as the Ships have sailed.\n",
      "I have taken the liberty of saying that if Lord Sydney or Mr Nepean wish any Seeds you will let them have them. a good Botanist in this Country would find full employment, unfortunately I have not even a good Gardner. The flowering Shrubs & Trees of which I have sent seeds, grow in light black mould, & appear to thrive equally well in a Sandy & very Stony Ground. In a few months I hope to be able to attend a little more to the Natives, with whose customs & manners I wish much to acquainted. They are now much distressed for food, few fish are caught & I am told that many of them appear on the Beach where the Boats go to haul the Seins, very weak & anxious to get the small fish, of which they make no account in the Summer nor can we give them much assistance as very few fish are now caught, & we have many sick. These people never come amongst us, tho' they have several times gone along with the Sirius, but when I, or anyone that is known, go down the Harbour, they join us very readily. Mons.r La Perouse having been obliged to fire on them & the bad behaviour of some of our people, have made them avoid us more than when we first came, & which they have reveng'd by killing three of the Convicts, one was found with four spears in him, one of which had entered at the back and the point appeared below the breast bone. They throw these spears with great force, a few plants are put into some Spirits of Wine & there are a few dried plants.\n",
      "You will, Sir, be so obliging as to make my Compliments acceptable to Lady Banks & to the Ladys of your family. The hurry in which I write you will excuse & do me the honor of believing me with great esteem\n",
      "DEAR SIR / YOUR OBLIGED / & MOST OBEDIENT / HUMBLE SERVANT / A. PHILLIP\n",
      "\n"
     ]
    }
   ],
   "source": [
    "# here's a sample text\n",
    "print(texts[0])"
   ]
  },
  {
   "cell_type": "markdown",
   "metadata": {},
   "source": [
    "### Using NLTK\n",
    "\n",
    "Next we take the text we downloaded and use NLTK to do some sentiment analysis over the text (this is just one example\n",
    "that we could use)."
   ]
  },
  {
   "cell_type": "code",
   "execution_count": 27,
   "metadata": {},
   "outputs": [
    {
     "name": "stdout",
     "output_type": "stream",
     "text": [
      "Dear Sir,\n",
      "I have the pleasure of sending you some Seeds & would gladly have sent a larger quantity, but the person employed, either neglected collecting them at the proper time, or we were too late in the Season.\n",
      "compound: -0.1901, neg: 0.108, neu: 0.754, pos: 0.138, \n",
      "\n",
      "In the Kanguroo which is stuffed, not to alarm Lady Banks, you will observe the feet to be different to what is described in your voyage.\n",
      "compound: 0.2584, neg: 0.0, neu: 0.925, pos: 0.075, \n",
      "\n",
      "These Animals are very numerous, but after being fired at grow very shy The Stones w.ch I send on account of the appearance of Metal & the Ochre, were found in the bed of a river, which in the rainy Season runs thro' a Slate quarry.\n",
      "compound: -0.8515, neg: 0.192, neu: 0.808, pos: 0.0, \n",
      "\n",
      "The Slate, is according to the information of a Slater, not fitt for any use as it is rotten & will not split, for the Skin of a Bird which I send to Ld Sydney may merit your attention, it differs from the Ostrich & from the Emu.\n",
      "compound: -0.128, neg: 0.07, neu: 0.87, pos: 0.059, \n",
      "\n",
      "I have seen several but it is very difficult to get within shot of them.\n",
      "compound: -0.5704, neg: 0.221, neu: 0.779, pos: 0.0, \n",
      "\n",
      "Black Swans are seen frequently but only one has been killed.\n",
      "compound: -0.8047, neg: 0.385, neu: 0.615, pos: 0.0, \n",
      "\n",
      "The situation of the Penis in the Kangurroo appears to me uncommon, between the Anus & the Testicles, & very close to the former.\n",
      "compound: 0.0, neg: 0.0, neu: 1.0, pos: 0.0, \n",
      "\n",
      "This Animal grows to a great size, one has been killed that weighed very near to Two hundred weight, & one was found dead in the Woods, the Tail of which I have, that measures Eighteen inches in circumference.\n",
      "compound: -0.6908, neg: 0.192, neu: 0.719, pos: 0.089, \n",
      "\n",
      "The procuring Shelter & Security for ourselves & provisions has giving full employment, but I have made some excursions in order to examine the Country around us, the difficulty of which you, My Dear Sir, can form a just Idea of.\n",
      "compound: 0.4019, neg: 0.072, neu: 0.769, pos: 0.159, \n",
      "\n",
      "inland there is a Country in which the Timber grows as you observed about Botany Bay, at such a Distance that the Ground may be Cultivated with little trouble, but our situation does not permit us to go from the Cove in which I have fix'd the Settlement.\n",
      "compound: -0.1787, neg: 0.037, neu: 0.963, pos: 0.0, \n",
      "\n",
      "The carrying Stores & Provisions inland, a single days journey would be impossible.\n",
      "compound: 0.0, neg: 0.0, neu: 1.0, pos: 0.0, \n",
      "\n",
      "Mr Nepean will tell you my reason for settling here, & such particulars respecting the Country as I have been able to inform him of.\n",
      "compound: 0.4939, neg: 0.0, neu: 0.873, pos: 0.127, \n",
      "\n",
      "The Natives are far more numerous than I expected to find them.\n",
      "compound: 0.0, neg: 0.0, neu: 1.0, pos: 0.0, \n",
      "\n",
      "I have seen two hundred & twelve men in one Cove near Botany Bay, & reckon fifteen hundred in Botany bay, this Port & Broken bay (a good harbour) including those who live on the intermediate Coast.\n",
      "compound: -0.0516, neg: 0.084, neu: 0.838, pos: 0.078, \n",
      "\n",
      "I have traced them thirty miles in land & having seen Smoke on Lansdown Hills, which are fifty miles inland, there cannot be the least doubt but that there are Inhabitants in interior parts of the Country.\n",
      "compound: 0.1419, neg: 0.0, neu: 0.956, pos: 0.044, \n",
      "\n",
      "almost all the men wanting the front tooth in the upper Jaw (which is pulled out) & most of the Women wanting the two first joints of the little finger on the left hand, are circumstances not observed in your voyage.\n",
      "compound: 0.4939, neg: 0.0, neu: 0.924, pos: 0.076, \n",
      "\n",
      "I have seen a female Child of five years of Age that had lost the two Joints, & I have seen young Children whose fingers were perfect.\n",
      "compound: 0.34, neg: 0.085, neu: 0.778, pos: 0.137, \n",
      "\n",
      "I have likewise seen two Women with Child, & one Old Woman who had not suffered the operation, so that it is not in my power at present, to say at what Age it is performed, or on what account.\n",
      "compound: 0.3875, neg: 0.0, neu: 0.934, pos: 0.066, \n",
      "\n",
      "We have unfortunately lost all our Cows & a parry is just returned after being out eight days, they say that they saw a very large Lake, or river, of fresh water & which I shall visit as soon as the Ships have sailed.\n",
      "compound: -0.34, neg: 0.109, neu: 0.837, pos: 0.053, \n",
      "\n",
      "I have taken the liberty of saying that if Lord Sydney or Mr Nepean wish any Seeds you will let them have them.\n",
      "compound: 0.7269, neg: 0.0, neu: 0.766, pos: 0.234, \n",
      "\n",
      "a good Botanist in this Country would find full employment, unfortunately I have not even a good Gardner.\n",
      "compound: 0.5267, neg: 0.119, neu: 0.594, pos: 0.287, \n",
      "\n",
      "The flowering Shrubs & Trees of which I have sent seeds, grow in light black mould, & appear to thrive equally well in a Sandy & very Stony Ground.\n",
      "compound: 0.2732, neg: 0.0, neu: 0.916, pos: 0.084, \n",
      "\n",
      "In a few months I hope to be able to attend a little more to the Natives, with whose customs & manners I wish much to acquainted.\n",
      "compound: 0.6808, neg: 0.0, neu: 0.781, pos: 0.219, \n",
      "\n",
      "They are now much distressed for food, few fish are caught & I am told that many of them appear on the Beach where the Boats go to haul the Seins, very weak & anxious to get the small fish, of which they make no account in the Summer nor can we give them much assistance as very few fish are now caught, & we have many sick.\n",
      "compound: -0.9148, neg: 0.189, neu: 0.811, pos: 0.0, \n",
      "\n",
      "These people never come amongst us, tho' they have several times gone along with the Sirius, but when I, or anyone that is known, go down the Harbour, they join us very readily.\n",
      "compound: 0.4215, neg: 0.0, neu: 0.92, pos: 0.08, \n",
      "\n",
      "Mons.r La Perouse having been obliged to fire on them & the bad behaviour of some of our people, have made them avoid us more than when we first came, & which they have reveng'd by killing three of the Convicts, one was found with four spears in him, one of which had entered at the back and the point appeared below the breast bone.\n",
      "compound: -0.91, neg: 0.175, neu: 0.825, pos: 0.0, \n",
      "\n",
      "They throw these spears with great force, a few plants are put into some Spirits of Wine & there are a few dried plants.\n",
      "compound: 0.6249, neg: 0.0, neu: 0.83, pos: 0.17, \n",
      "\n",
      "You will, Sir, be so obliging as to make my Compliments acceptable to Lady Banks & to the Ladys of your family.\n",
      "compound: 0.6124, neg: 0.0, neu: 0.792, pos: 0.208, \n",
      "\n",
      "The hurry in which I write you will excuse & do me the honor of believing me with great esteem\n",
      "DEAR SIR / YOUR OBLIGED / & MOST OBEDIENT / HUMBLE SERVANT / A. PHILLIP\n",
      "compound: 0.8986, neg: 0.0, neu: 0.668, pos: 0.332, \n",
      "\n"
     ]
    }
   ],
   "source": [
    "sentences = tokenize.sent_tokenize(texts[0])\n",
    "sid = SentimentIntensityAnalyzer()\n",
    "for sentence in sentences:\n",
    "    print(sentence)\n",
    "    ss = sid.polarity_scores(sentence)\n",
    "    for k in sorted(ss):\n",
    "        print('{0}: {1}, '.format(k, ss[k]), end='')\n",
    "    print(\"\\n\")"
   ]
  },
  {
   "cell_type": "code",
   "execution_count": null,
   "metadata": {},
   "outputs": [],
   "source": []
  }
 ],
 "metadata": {
  "kernelspec": {
   "display_name": "Python 3",
   "language": "python",
   "name": "python3"
  },
  "language_info": {
   "codemirror_mode": {
    "name": "ipython",
    "version": 3
   },
   "file_extension": ".py",
   "mimetype": "text/x-python",
   "name": "python",
   "nbconvert_exporter": "python",
   "pygments_lexer": "ipython3",
   "version": "3.6.5"
  }
 },
 "nbformat": 4,
 "nbformat_minor": 2
}
